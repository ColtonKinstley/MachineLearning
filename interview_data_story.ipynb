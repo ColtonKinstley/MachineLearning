{
 "cells": [
  {
   "cell_type": "code",
   "execution_count": 7,
   "metadata": {},
   "outputs": [
    {
     "name": "stdout",
     "output_type": "stream",
     "text": [
      "Using matplotlib backend: Qt5Agg\n"
     ]
    }
   ],
   "source": [
    "%matplotlib"
   ]
  },
  {
   "cell_type": "code",
   "execution_count": 8,
   "metadata": {},
   "outputs": [],
   "source": [
    "from numpy import array, delete\n",
    "import matplotlib.pyplot as plt\n",
    "import pandas as pd\n",
    "import seaborn as sns\n",
    "from scipy.stats import chi2_contingency\n",
    "from sklearn.model_selection import train_test_split\n",
    "from sklearn import tree\n",
    "from sklearn.metrics import mean_absolute_error\n",
    "from itertools import combinations"
   ]
  },
  {
   "cell_type": "code",
   "execution_count": 9,
   "metadata": {},
   "outputs": [],
   "source": [
    "resturants = pd.read_csv('./data/restaurants.csv')\n",
    "data_size = len(resturants)"
   ]
  },
  {
   "cell_type": "markdown",
   "metadata": {},
   "source": [
    "# Clean data\n",
    "\n",
    "Check if there are any missing data. Each column is categorical so check that the number of unique categroies makes sense."
   ]
  },
  {
   "cell_type": "code",
   "execution_count": 10,
   "metadata": {},
   "outputs": [],
   "source": [
    "def explore():\n",
    "    for column in resturants.columns:\n",
    "        print(column, ' : ', resturants[column].unique(), '\\n')"
   ]
  },
  {
   "cell_type": "code",
   "execution_count": 11,
   "metadata": {
    "scrolled": true
   },
   "outputs": [
    {
     "name": "stdout",
     "output_type": "stream",
     "text": [
      "Missing values: False\n",
      "\n",
      "age  :  ['35_49' '50_64' '20_34' 'under_19' '65_and_over'] \n",
      "\n",
      "gender  :  ['female' 'male'] \n",
      "\n",
      "budget  :  ['under_20' '20_to_30' 'over_50' '30_to_50'] \n",
      "\n",
      "price  :  ['20_to_30' '30_to_50' 'under_20' 'over_50'] \n",
      "\n",
      "cuisine_type  :  ['Latin American/Mexican' 'American' 'Asian' 'Bars/Pubs'\n",
      " 'Deli/Sandwiches/Fast Food' 'Continental' 'African' 'Breakfast/Brunch'\n",
      " 'Seafood' 'Mediterranean' 'Vegetarian/vegan' 'Cafe'] \n",
      "\n",
      "rating  :  ['very good' 'dislike' 'satisfactory' 'excellent'] \n",
      "\n"
     ]
    }
   ],
   "source": [
    "print('Missing values: {missing}\\n'.format(missing=resturants.isnull().values.any()))\n",
    "explore()"
   ]
  },
  {
   "cell_type": "markdown",
   "metadata": {},
   "source": [
    "# Data setup\n",
    "\n",
    "Tell pandas that our data is categorical. It makes senese to assign an order to some of the features, so tell pandas the order too. We will shorten the cuisine names to make visualization easier."
   ]
  },
  {
   "cell_type": "code",
   "execution_count": 12,
   "metadata": {},
   "outputs": [],
   "source": [
    "resturants = resturants.astype('category')\n",
    "resturants.age = resturants.age.cat.reorder_categories(\n",
    "    ['under_19', '20_34', '35_49', '50_64', '65_and_over'], ordered=True)\n",
    "resturants.budget = resturants.budget.cat.reorder_categories(\n",
    "    ['under_20', '20_to_30', '30_to_50', 'over_50'], ordered=True)\n",
    "resturants.price = resturants.price.cat.reorder_categories(\n",
    "    ['under_20', '20_to_30', '30_to_50', 'over_50'], ordered=True)\n",
    "resturants.rating = resturants.rating.cat.reorder_categories(\n",
    "    ['dislike', 'satisfactory', 'very good', 'excellent'], ordered=True)\n",
    "\n",
    "full_cuisine_names = {k:v for k,v in enumerate(resturants.cuisine_type.cat.categories)}\n",
    "resturants.cuisine_type.cat.rename_categories(\n",
    "    [cat[0:11] for cat in resturants.cuisine_type.cat.categories]);"
   ]
  },
  {
   "cell_type": "markdown",
   "metadata": {},
   "source": [
    "# Visualize the Data\n",
    "\n",
    "Since all of the data is categorical the primary way to visualize is to compare histograms over certain subsets of the data. Lets look at the histograms of all of our features to get the lay of the land."
   ]
  },
  {
   "cell_type": "code",
   "execution_count": 13,
   "metadata": {},
   "outputs": [],
   "source": [
    "def explore_visual():\n",
    "    resturants.describe(include='all')\n",
    "\n",
    "    fig, axes = plt.subplots(2, 3)\n",
    "    for i, column in enumerate(resturants.columns):\n",
    "        ax = sns.countplot(resturants[column], ax=axes[i % 2, i % 3])\n",
    "        ax.set_xticklabels(ax.get_xticklabels(), rotation=90)"
   ]
  },
  {
   "cell_type": "code",
   "execution_count": 14,
   "metadata": {},
   "outputs": [],
   "source": [
    "explore_visual()"
   ]
  },
  {
   "cell_type": "markdown",
   "metadata": {},
   "source": [
    "## More informative charts\n",
    "\n",
    "I'd like to see the histograms given as a percentage of the total subset and report just how much of our data set I am looking at. I'll get ideas where to go from this info, we can alway do a hypotheses test to make sure the interpretation is valid."
   ]
  },
  {
   "cell_type": "code",
   "execution_count": 15,
   "metadata": {},
   "outputs": [],
   "source": [
    "def percentplot(data, **kwargs):\n",
    "    ax = sns.barplot(\n",
    "        x=data,\n",
    "        y=data,\n",
    "        orient='v',\n",
    "        ci=None,\n",
    "        estimator=lambda x: len(x) * 100.0 / len(data),\n",
    "        alpha=.5,\n",
    "        **kwargs)\n",
    "\n",
    "    float_percent = len(data) * 100.0 / data_size\n",
    "    if ax.texts:\n",
    "        float_percent = len(data) * 100.0 / data_size\n",
    "        for text in ax.texts:\n",
    "            float_percent += float(text.get_text()[:-1])\n",
    "        ax.texts = []\n",
    "\n",
    "    percent = '{:.2g}%'.format(float_percent)\n",
    "\n",
    "    ax.text(.5, .95, percent, transform=ax.transAxes)\n",
    "    return ax"
   ]
  },
  {
   "cell_type": "code",
   "execution_count": 16,
   "metadata": {},
   "outputs": [],
   "source": [
    "def facetplot(facet):\n",
    "    # price vs age\n",
    "    # age vs rating\n",
    "    for col in resturants.columns:\n",
    "        if col != facet:\n",
    "            g = sns.FacetGrid(resturants, col=facet)\n",
    "            g.map(percentplot, col)"
   ]
  },
  {
   "cell_type": "code",
   "execution_count": 17,
   "metadata": {},
   "outputs": [],
   "source": [
    "facetplot('age')"
   ]
  },
  {
   "cell_type": "markdown",
   "metadata": {},
   "source": [
    "## FacetGrid\n",
    "\n",
    "Although it's a bit of data overload, we can use facet plot to view the relationships between even more features."
   ]
  },
  {
   "cell_type": "code",
   "execution_count": 18,
   "metadata": {},
   "outputs": [],
   "source": [
    "def bigfacet(data, facet, col, row=None, hue=None):\n",
    "    if hue and row:\n",
    "        g = sns.FacetGrid(data, row=row, hue=hue, col=col, palette='Set1')\n",
    "        g.map(percentplot, facet)\n",
    "        g.set_titles('{row_name:.1s}|{col_name:.8s}')\n",
    "        g.add_legend()\n",
    "    elif row:\n",
    "        g = sns.FacetGrid(data, row=row, col=col, palette='Set1')\n",
    "        g.map(percentplot, facet)\n",
    "        g.set_titles('{row_name:.1s}|{col_name:.8s}')\n",
    "    elif hue:\n",
    "        g = sns.FacetGrid(data, hue=hue, col=col, palette='Set1')\n",
    "        g.map(percentplot, facet)\n",
    "        g.set_titles('{col_name:.8s}')\n",
    "        g.add_legend()\n",
    "\n",
    "    x_tick_labels = []\n",
    "    for cat in data[facet].cat.categories:\n",
    "        x_tick_labels.append(cat[0])\n",
    "\n",
    "    g.set_xticklabels(x_tick_labels)"
   ]
  },
  {
   "cell_type": "code",
   "execution_count": 19,
   "metadata": {},
   "outputs": [
    {
     "name": "stderr",
     "output_type": "stream",
     "text": [
      "/Users/admin/miniconda3/lib/python3.6/site-packages/matplotlib/tight_layout.py:198: UserWarning: tight_layout cannot make axes width small enough to accommodate all axes decorations\n",
      "  warnings.warn('tight_layout cannot make axes width small enough '\n"
     ]
    }
   ],
   "source": [
    "bigfacet(resturants, 'rating','cuisine_type', row='age')"
   ]
  },
  {
   "cell_type": "code",
   "execution_count": 20,
   "metadata": {},
   "outputs": [
    {
     "name": "stderr",
     "output_type": "stream",
     "text": [
      "/Users/admin/miniconda3/lib/python3.6/site-packages/matplotlib/tight_layout.py:198: UserWarning: tight_layout cannot make axes width small enough to accommodate all axes decorations\n",
      "  warnings.warn('tight_layout cannot make axes width small enough '\n"
     ]
    }
   ],
   "source": [
    "bigfacet(resturants, 'rating', 'cuisine_type', hue='gender')"
   ]
  },
  {
   "cell_type": "markdown",
   "metadata": {},
   "source": [
    "# We could automate\n",
    "\n",
    "All we are relly doing here is searching though histograms to see if we can spot any differences in the relative distributions. We could choose a reasonable p-value and compute chi square stastics parewise. "
   ]
  },
  {
   "cell_type": "code",
   "execution_count": 21,
   "metadata": {},
   "outputs": [],
   "source": [
    "def chi_square(row, col, data, lambda_=1):\n",
    "    row_vars = data[row].cat.categories\n",
    "    col_vars = data[col].cat.categories\n",
    "    observations = []\n",
    "\n",
    "    for var1 in row_vars:\n",
    "        col_obs = []\n",
    "        for var2 in col_vars:\n",
    "            col_obs.append(\n",
    "                len(\n",
    "                    data.query('{row} == @var1'.format(row=row)).query(\n",
    "                        '{col} == @var2'.format(col=col))))\n",
    "        observations.append(col_obs)\n",
    "\n",
    "    obs = array(observations)\n",
    "    zeros, dropped = [], 0\n",
    "\n",
    "    for index, elem in enumerate(obs.sum(axis=0)):\n",
    "        if elem == 0:\n",
    "            zeros.append(index)\n",
    "            dropped += 1\n",
    "    obs = delete(obs, zeros, axis=1)\n",
    "    return chi2_contingency(obs, lambda_=lambda_)"
   ]
  },
  {
   "cell_type": "code",
   "execution_count": 22,
   "metadata": {
    "scrolled": false
   },
   "outputs": [
    {
     "name": "stdout",
     "output_type": "stream",
     "text": [
      "age vs gender : 6.712210367540001e-21\n",
      "age vs budget : 0.0004905628509387912\n",
      "age vs rating : 0.0\n",
      "gender vs budget : 0.005307531562409769\n",
      "gender vs rating : 2.695313473992979e-13\n",
      "budget vs rating : 0.0\n",
      "price vs cuisine_type : 0.0\n",
      "price vs rating : 0.0\n",
      "cuisine_type vs rating : 0.0\n"
     ]
    }
   ],
   "source": [
    "for row, col in combinations(resturants.columns, 2):\n",
    "    pval = chi_square(row, col, resturants)[1]\n",
    "    if pval < .1:\n",
    "        print(row, 'vs', col,':', pval)"
   ]
  },
  {
   "cell_type": "markdown",
   "metadata": {},
   "source": [
    "We can investigate the relationship between gender, age and cuisine type further."
   ]
  },
  {
   "cell_type": "code",
   "execution_count": 23,
   "metadata": {},
   "outputs": [
    {
     "name": "stdout",
     "output_type": "stream",
     "text": [
      "-----under_19-----\n",
      "Vegetarian/vegan : 0.00011186598586295131\n",
      "\n",
      "\n",
      "-----20_34-----\n",
      "African : 1.403702577113272e-15\n",
      "\n",
      "\n",
      "-----35_49-----\n",
      "African : 4.2471150893987534e-07\n",
      "Bars/Pubs : 1.1357149180974728e-64\n",
      "Deli/Sandwiches/Fast Food : 0.09400665534758654\n",
      "Seafood : 2.6291468824417726e-53\n",
      "\n",
      "\n",
      "-----50_64-----\n",
      "Vegetarian/vegan : 6.6713641069991425e-06\n",
      "\n",
      "\n",
      "-----65_and_over-----\n",
      "Cafe : 0.03460917828870051\n",
      "Latin American/Mexican : 0.012992500968899366\n",
      "Mediterranean : 0.01107559672940161\n",
      "Vegetarian/vegan : 3.2006722876321e-05\n",
      "\n",
      "\n"
     ]
    }
   ],
   "source": [
    "useful_features = []\n",
    "for age in resturants.age.cat.categories:\n",
    "    print('-----{age}-----'.format(age=age))\n",
    "    for cat in resturants.cuisine_type.cat.categories:\n",
    "        pval = chi_square('gender', 'rating', resturants.query('cuisine_type == @cat and age == @age'))[1]\n",
    "        if pval < .1:\n",
    "            print(cat, ':', pval)\n",
    "            useful_features.append((age,cat))\n",
    "    print('\\n')"
   ]
  },
  {
   "cell_type": "markdown",
   "metadata": {},
   "source": [
    "The cuisine types above are those which have a p-value less than 0.1, indicating that gender does make a defference in ratings given to these cuisines in the given age bracket. We could process these further automatically and use this same process across the whole data set to help with feature selection.\n",
    "\n",
    "Or, use this infomation to drill down to graphs that display usefull information about our population. As an example lets check how males and females aged 35 to 49 differ on their opinion of Bars/Pubs."
   ]
  },
  {
   "cell_type": "code",
   "execution_count": 24,
   "metadata": {},
   "outputs": [
    {
     "data": {
      "text/plain": [
       "Text(0.5, 0, '35_49 | Deli/Sandwiches/Fast Food')"
      ]
     },
     "execution_count": 24,
     "metadata": {},
     "output_type": "execute_result"
    }
   ],
   "source": [
    "row, col = useful_features[4]\n",
    "ax = sns.countplot(x='rating', hue = 'gender', data=resturants.query('cuisine_type == @col and age == @row'), palette='Set1')\n",
    "ax.set_xlabel(row + ' | '+col)"
   ]
  },
  {
   "cell_type": "markdown",
   "metadata": {},
   "source": [
    "# A telling image\n",
    "With automated hypothesis testing we can qickly find relationships in the data. And, since there arent that many features in our data set we can visualize those relationships too."
   ]
  },
  {
   "cell_type": "code",
   "execution_count": 25,
   "metadata": {
    "scrolled": true
   },
   "outputs": [
    {
     "name": "stderr",
     "output_type": "stream",
     "text": [
      "/Users/admin/miniconda3/lib/python3.6/site-packages/matplotlib/tight_layout.py:198: UserWarning: tight_layout cannot make axes width small enough to accommodate all axes decorations\n",
      "  warnings.warn('tight_layout cannot make axes width small enough '\n"
     ]
    }
   ],
   "source": [
    "bigfacet(resturants, 'rating','cuisine_type', row='age', hue='gender')"
   ]
  },
  {
   "cell_type": "markdown",
   "metadata": {},
   "source": [
    "# Predictive models\n",
    "Can we predict what rating a person will assign to a given cuisine? A decision tree seems like a good first pass with this low dimensional catigorical data."
   ]
  },
  {
   "cell_type": "code",
   "execution_count": 26,
   "metadata": {},
   "outputs": [],
   "source": [
    "def predict_with_tree(features, label, tree_type='regressor', **kwargs):\n",
    "    feats = []\n",
    "    for col in features:\n",
    "        feats.append(resturants[col].cat.codes.values)\n",
    "    X = array(feats)\n",
    "    X = X.T\n",
    "    y = resturants[label].cat.codes.values\n",
    "    X_train, X_test, y_train, y_test = train_test_split(X, y, test_size=.40)\n",
    "    if tree_type == 'regressor':\n",
    "        clf = tree.DecisionTreeRegressor(**kwargs)\n",
    "    elif tree_type == 'classifier':\n",
    "        clf = tree.DecisionTreeClassifier(**kwargs)\n",
    "    else:\n",
    "        raise ValueError('tree_type must be one of [regressor, classifier]')\n",
    "    clf.fit(X_train, y_train)\n",
    "    return clf, X_test, y_test"
   ]
  },
  {
   "cell_type": "code",
   "execution_count": 27,
   "metadata": {},
   "outputs": [],
   "source": [
    "def test_model(model, num_tests, *args, **kwargs):\n",
    "    error = []\n",
    "    for i in range(num_tests):\n",
    "        clf, X_test, y_test = model(*args, **kwargs)\n",
    "        error.append(mean_absolute_error(y_test, clf.predict(X_test)))\n",
    "    error = array(error)\n",
    "    return error.mean()"
   ]
  },
  {
   "cell_type": "code",
   "execution_count": 294,
   "metadata": {},
   "outputs": [
    {
     "name": "stdout",
     "output_type": "stream",
     "text": [
      "('age', 'gender', 'cuisine_type') : 0.48662250794186973 \n",
      "\n",
      "('age', 'budget', 'cuisine_type') : 0.30678517227011326 \n",
      "\n",
      "('age', 'price', 'cuisine_type') : 0.4267288945461364 \n",
      "\n",
      "('age', 'gender', 'budget', 'cuisine_type') : 0.2687036719708614 \n",
      "\n",
      "('age', 'gender', 'price', 'cuisine_type') : 0.3922324473950226 \n",
      "\n",
      "('age', 'budget', 'price', 'cuisine_type') : 0.13384768080845033 \n",
      "\n",
      "('age', 'gender', 'budget', 'price', 'cuisine_type') : 0.08497379996237872 \n",
      "\n"
     ]
    }
   ],
   "source": [
    "for r in range(1,6):\n",
    "    for features in combinations(resturants.columns[0:5], r):\n",
    "        error = test_model(predict_with_tree, 10, features, 'rating', tree_type='regressor')\n",
    "        if error < .5:\n",
    "            print(features, ':', error,'\\n')"
   ]
  },
  {
   "cell_type": "code",
   "execution_count": 295,
   "metadata": {
    "scrolled": true
   },
   "outputs": [
    {
     "name": "stderr",
     "output_type": "stream",
     "text": [
      "/Users/admin/miniconda3/lib/python3.6/site-packages/matplotlib/tight_layout.py:198: UserWarning: tight_layout cannot make axes width small enough to accommodate all axes decorations\n",
      "  warnings.warn('tight_layout cannot make axes width small enough '\n"
     ]
    }
   ],
   "source": [
    "bigfacet(resturants, 'rating','cuisine_type', row='budget', hue='gender')"
   ]
  },
  {
   "cell_type": "code",
   "execution_count": 334,
   "metadata": {},
   "outputs": [
    {
     "data": {
      "text/plain": [
       "<seaborn.axisgrid.FacetGrid at 0x1a428dd4e0>"
      ]
     },
     "execution_count": 334,
     "metadata": {},
     "output_type": "execute_result"
    }
   ],
   "source": [
    "#add plot budget vs rating\n",
    "g = sns.FacetGrid(resturants, col='budget')\n",
    "g.map(percentplot, 'rating')\n",
    "g.set_titles('{col_name:.8s}')"
   ]
  },
  {
   "cell_type": "code",
   "execution_count": 336,
   "metadata": {},
   "outputs": [
    {
     "data": {
      "text/plain": [
       "<seaborn.axisgrid.FacetGrid at 0x1a6a0fe3c8>"
      ]
     },
     "execution_count": 336,
     "metadata": {},
     "output_type": "execute_result"
    }
   ],
   "source": [
    "g = sns.FacetGrid(resturants, col='price')\n",
    "g.map(percentplot, 'rating')\n",
    "g.set_titles('{col_name:.8s}')"
   ]
  },
  {
   "cell_type": "markdown",
   "metadata": {},
   "source": [
    "# Over budget\n",
    "\n",
    "When I was first exploring this data set I came across something slightly surprising."
   ]
  },
  {
   "cell_type": "code",
   "execution_count": 297,
   "metadata": {},
   "outputs": [
    {
     "data": {
      "text/plain": [
       "36.55486436221381"
      ]
     },
     "execution_count": 297,
     "metadata": {},
     "output_type": "execute_result"
    }
   ],
   "source": [
    "resturants['stars'] = resturants.rating.cat.codes\n",
    "resturants['over_budget'] = pd.Categorical(\n",
    "    resturants.budget < resturants.price)\n",
    "\n",
    "len(resturants[resturants.budget < resturants.price])/data_size*100.0"
   ]
  },
  {
   "cell_type": "markdown",
   "metadata": {},
   "source": [
    "About 37% of the reviewers in this data set are going over budget. Further, reviewers who do go over budget are rating resturants nearly an average of one star lower than those who do not."
   ]
  },
  {
   "cell_type": "code",
   "execution_count": 298,
   "metadata": {},
   "outputs": [
    {
     "name": "stdout",
     "output_type": "stream",
     "text": [
      "Over budget: 1.4642105263157894\n",
      "At or under budget:  2.446275144041241\n"
     ]
    }
   ],
   "source": [
    "print('Over budget:',resturants.query('over_budget == True').stars.mean())\n",
    "print('At or under budget: ', resturants.query('over_budget == False').stars.mean())"
   ]
  },
  {
   "cell_type": "markdown",
   "metadata": {},
   "source": [
    "The decision tree using all features was able to learn this relationship. But, using this feature alone we can do just as well as the model which uses all features, and we end up with a more interpretable result."
   ]
  },
  {
   "cell_type": "code",
   "execution_count": 299,
   "metadata": {},
   "outputs": [
    {
     "data": {
      "text/plain": [
       "0.08378750406667444"
      ]
     },
     "execution_count": 299,
     "metadata": {},
     "output_type": "execute_result"
    }
   ],
   "source": [
    "test_model(predict_with_tree, 10, ['age', 'gender','over_budget', 'cuisine_type'], 'rating', tree_type='regressor')"
   ]
  },
  {
   "cell_type": "code",
   "execution_count": 300,
   "metadata": {},
   "outputs": [
    {
     "data": {
      "text/plain": [
       "0.04677781340173133"
      ]
     },
     "execution_count": 300,
     "metadata": {},
     "output_type": "execute_result"
    }
   ],
   "source": [
    "test_model(predict_with_tree, 10, ['age', 'gender','over_budget', 'cuisine_type'], 'rating', tree_type='classifier')"
   ]
  },
  {
   "cell_type": "code",
   "execution_count": 301,
   "metadata": {},
   "outputs": [
    {
     "name": "stderr",
     "output_type": "stream",
     "text": [
      "/Users/admin/miniconda3/lib/python3.6/site-packages/matplotlib/tight_layout.py:198: UserWarning: tight_layout cannot make axes width small enough to accommodate all axes decorations\n",
      "  warnings.warn('tight_layout cannot make axes width small enough '\n"
     ]
    }
   ],
   "source": [
    "bigfacet(resturants, 'rating','cuisine_type', row='age', hue='over_budget')"
   ]
  },
  {
   "cell_type": "code",
   "execution_count": 303,
   "metadata": {},
   "outputs": [
    {
     "name": "stderr",
     "output_type": "stream",
     "text": [
      "/Users/admin/miniconda3/lib/python3.6/site-packages/matplotlib/tight_layout.py:198: UserWarning: tight_layout cannot make axes width small enough to accommodate all axes decorations\n",
      "  warnings.warn('tight_layout cannot make axes width small enough '\n"
     ]
    }
   ],
   "source": [
    "under = resturants[resturants.over_budget == False]\n",
    "bigfacet(under, 'rating','cuisine_type', row='age', hue='gender')"
   ]
  }
 ],
 "metadata": {
  "kernelspec": {
   "display_name": "Python 3",
   "language": "python",
   "name": "python3"
  },
  "language_info": {
   "codemirror_mode": {
    "name": "ipython",
    "version": 3
   },
   "file_extension": ".py",
   "mimetype": "text/x-python",
   "name": "python",
   "nbconvert_exporter": "python",
   "pygments_lexer": "ipython3",
   "version": "3.6.6"
  }
 },
 "nbformat": 4,
 "nbformat_minor": 2
}
